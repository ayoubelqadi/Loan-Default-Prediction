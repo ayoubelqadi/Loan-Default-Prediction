{
 "cells": [
  {
   "cell_type": "code",
   "execution_count": 1,
   "metadata": {},
   "outputs": [],
   "source": [
    "import pandas as pd\n",
    "import numpy as np\n",
    "\n",
    "from datetime import datetime\n",
    "\n",
    "\n",
    "pd.set_option('max_columns', 500)\n",
    "pd.set_option('max_rows', 500)"
   ]
  },
  {
   "cell_type": "markdown",
   "metadata": {},
   "source": [
    "# Library"
   ]
  },
  {
   "cell_type": "code",
   "execution_count": 2,
   "metadata": {},
   "outputs": [],
   "source": [
    "def counter_nan(series):\n",
    "    return sum(series.isna())\n",
    "\n",
    "\n",
    "def get_percentage_missing_data(df, threshold, show_percentage=False):\n",
    "    '''Inputs: Datframe, thresold\n",
    "    Function: return the features with more than thresold of missing data'''\n",
    "    rows=df.shape[0]\n",
    "    missing_features = []\n",
    "    perc_missing_features = {}\n",
    "    for column in df.columns:\n",
    "        counter_perc = counter_nan(df[column])/rows\n",
    "        perc_missing_features[column] = round(counter_perc*100, 2)\n",
    "        if counter_perc > threshold:\n",
    "            missing_features.append(column)\n",
    "        else:\n",
    "            continue\n",
    "            \n",
    "    if show_percentage:\n",
    "        print(perc_missing_features)\n",
    "    else:\n",
    "        pass\n",
    "    return missing_features\n",
    "# Fill nan employment status clients with indefined\n",
    "def fill_nan_employment(df):\n",
    "    df['employment_status_clients'] = df['employment_status_clients'].replace(to_replace=np.nan, value='non-defined')\n",
    "\n",
    "\n",
    "    \n",
    "    \n",
    "def birthday_to_age(string_date):\n",
    "    current_year = 2018\n",
    "    year_birthday = int(string_date.split('-')[0])\n",
    "    age = 2018-year_birthday\n",
    "    return age\n",
    "\n",
    "\n",
    "\n",
    "def get_interest_data(previous_loan_df):\n",
    "    '''Input: dataframe with the previous loans data\n",
    "    Function: add two new columns to the dataframe containing the interest rate and the rate amount'''\n",
    "    total_due = previous_loan_df['totaldue']\n",
    "    loan_amount = previous_loan_df['loanamount']\n",
    "    interest = total_due-loan_amount\n",
    "    interest_rate = round((interest/loan_amount)*100,2)\n",
    "    previous_loan_df['interest'] = interest\n",
    "    previous_loan_df['interest_rate'] = interest_rate\n",
    "    \n",
    "    \n",
    "\n",
    "def scale_termdays(previous_loan_df):\n",
    "    '''Scale termdays using a year as unit'''\n",
    "    previous_loan_df['termdays'] = round(previous_loan_df['termdays']/365, 2)\n",
    "    \n",
    "    \n",
    "    \n",
    "def get_date_features(df, keep_customer_id=False):\n",
    "    '''Return a vector with the name of the date features'''\n",
    "    \n",
    "    if keep_customer_id:\n",
    "        date_features = ['customerid']\n",
    "    else:\n",
    "        date_features = []\n",
    "        \n",
    "    for column in df.columns:\n",
    "        if 'date' in column:\n",
    "            date_features.append(column)\n",
    "        else:\n",
    "            continue\n",
    "    return date_features\n",
    "\n",
    "\n",
    "\n",
    "def get_non_date_features(df, keep_customer_id=False):\n",
    "    '''Return a vector with the non date features'''\n",
    "    if keep_customer_id:\n",
    "        non_date_features = ['customerid']\n",
    "    else:\n",
    "        non_date_features = []\n",
    "        \n",
    "    for column in df.columns[1:]:\n",
    "        if 'date' not in column:\n",
    "            non_date_features.append(column)\n",
    "        else:\n",
    "            continue\n",
    "    return non_date_features\n",
    "\n",
    "    \n",
    "\n",
    "def string_to_datetime(df):\n",
    "    '''Convert date with string format into date variables'''\n",
    "    for date_feature in get_date_features(df):\n",
    "        df[date_feature] = df[date_feature].apply(lambda date: datetime.strptime(date.split(' ')[0], '%Y-%m-%d'))\n",
    "    \n",
    "\n",
    "    \n",
    "def differentiate_dates(df, columns_to_differentiate=[]):\n",
    "    '''Create a new column in which we store the distance between two dates'''\n",
    "    #Days scale\n",
    "    name_new_column = 'diff_'+columns_to_differentiate[0]+'_'+columns_to_differentiate[1]\n",
    "    sec_in_day = 60*60*24\n",
    "    #\n",
    "    df[name_new_column] = df[columns_to_differentiate[0]] - df[columns_to_differentiate[1]]\n",
    "    df[name_new_column] = df[name_new_column].apply(lambda x: round((x.total_seconds()/sec_in_day), 2))\n",
    "    \n",
    "    \n",
    "def date_to_day(df):\n",
    "    '''Create a new variable containing in which day of the week the due and the repaid took place'''\n",
    "    columns_map = {\n",
    "        'firstrepaiddate': 'repaid_dayofweek',\n",
    "        'firstduedate': 'due_dayofweek'\n",
    "    }\n",
    "    for key, value in columns_map.items():\n",
    "        df[value] = df[key].apply(lambda date: datetime.weekday(date))\n",
    "        \n",
    "        \n",
    "        \n",
    "def is_month_start(df):\n",
    "        columns_map = {\n",
    "        'firstrepaiddate': 'is_month_start_repaid',\n",
    "        'firstduedate': 'is_month_start_due'\n",
    "    }\n",
    "        for key, value in columns_map.items():\n",
    "            df[value] = df[key].apply(lambda date: 1 if date.day == 1 else 0)\n",
    "            \n",
    "\n",
    "def get_statistics_by_customer(df):\n",
    "    '''Return a df with the aggregated data by customer\n",
    "    \n",
    "    '''\n",
    "    stats = ['max', 'min', 'mean']\n",
    "    df_dict = {}\n",
    "    for stat in stats:\n",
    "        if stat == 'max':\n",
    "            rename_feature = {}\n",
    "            for column in df.columns[2:]:\n",
    "                rename_feature[column] = column+'_'+stat\n",
    "            df_dict[stat] = df.groupby(['customerid']).max()\n",
    "            df_dict[stat] = df_dict[stat].rename(columns=rename_feature)\n",
    "            df_dict[stat] = df_dict[stat].drop(columns=['loannumber'])\n",
    "        elif stat == 'min':\n",
    "            rename_feature = {}\n",
    "            for column in df.columns[2:]:\n",
    "                rename_feature[column] = column+'_'+stat\n",
    "            df_dict[stat] = df.groupby(['customerid']).min()\n",
    "            df_dict[stat] = df_dict[stat].rename(columns=rename_feature)\n",
    "            df_dict[stat] = df_dict[stat].drop(columns=['loannumber'])\n",
    "        elif stat == 'mean':\n",
    "            rename_feature = {}\n",
    "            for column in df.columns[2:]:\n",
    "                rename_feature[column] = column+'_'+stat\n",
    "            df_dict[stat] = df.groupby(['customerid']).mean()\n",
    "            df_dict[stat] = df_dict[stat].rename(columns=rename_feature)\n",
    "            df_dict[stat] = df_dict[stat].drop(columns=['loannumber'])\n",
    "            \n",
    "    df_stat = pd.concat([df_dict['max'], df_dict['min'], df_dict['mean']], axis=1)\n",
    "    \n",
    "    return df_stat"
   ]
  },
  {
   "cell_type": "code",
   "execution_count": 3,
   "metadata": {},
   "outputs": [],
   "source": [
    "def get_final_df(demographics, prev_loans, perf, is_train_data=True):\n",
    "    #Drop columns with high percentage of missing values\n",
    "    columns_to_drop = get_percentage_missing_data(demographics, 0.8, show_percentage=False)\n",
    "    fill_nan_employment(demographics)\n",
    "    demographics = demographics.drop(columns=columns_to_drop)\n",
    "    #Transform birthdate in current age of each customer\n",
    "    demographics['birthdate'] = demographics['birthdate'].apply(birthday_to_age)\n",
    "    #Transform prevloans\n",
    "        #payment info\n",
    "    get_interest_data(prev_loans)\n",
    "    scale_termdays(prev_loans)\n",
    "        #date features treatment\n",
    "    date_features_df = prev_loans.drop(columns=get_non_date_features(prev_loans))\n",
    "        #String dates to datetime format\n",
    "    string_to_datetime(date_features_df)\n",
    "        #Create a two features tha computes the 'speed' of repayment\n",
    "    differentiate_dates(date_features_df, ['firstduedate', 'firstrepaiddate'])\n",
    "    differentiate_dates(date_features_df, ['closeddate', 'creationdate'])\n",
    "        #Which day of the week the due and the repaid took place\n",
    "    date_to_day(date_features_df)\n",
    "        #Merge the transformed date features with the prevloans data\n",
    "    prev_loans = pd.concat([prev_loans,date_features_df.drop(columns=get_date_features(prev_loans, keep_customer_id=True))], axis=1)\n",
    "        #Non relevant variables once transformed the data\n",
    "    columns_to_drop = ['systemloanid', 'approveddate', 'creationdate', 'closeddate', 'referredby', 'firstduedate',\n",
    "                  'firstrepaiddate']\n",
    "    prev_loans = prev_loans.drop(columns=columns_to_drop)\n",
    "        #final prev loans data\n",
    "    prev_loans = get_statistics_by_customer(prev_loans)\n",
    "    prev_loans['customerid'] = prev_loans.index\n",
    "    prev_loans = prev_loans.reset_index(drop=True)\n",
    "    \n",
    "    #Merge prevloans data with demographic data\n",
    "    transformed_data = demographics.merge(prev_loans, how='inner', on=['customerid'])\n",
    "    final_data = perf.merge(transformed_data, how='inner', on=['customerid'])\n",
    "    \n",
    "    #Drop dates loans\n",
    "    final_data = final_data.drop(columns=['approveddate', 'creationdate', 'referredby'])\n",
    "    #one hot encoding\n",
    "    final_data = pd.get_dummies(final_data, columns=['bank_account_type', 'bank_name_clients', 'employment_status_clients'])\n",
    "    #Encode good_bad_flag: Bad=1 Good=0\n",
    "    if is_train_data:\n",
    "        final_data['good_bad_flag'] = final_data['good_bad_flag'].apply(lambda x: 1 if x=='Bad' else 0)\n",
    "        final_data = final_data.drop(columns=['customerid', 'systemloanid'])\n",
    "    else:\n",
    "        pass\n",
    "    #Reorder the columns by name. To avoid problems with get dummies when a category is not present\n",
    "    #in the validation test.\n",
    "    final_data = final_data.reindex(columns=sorted(final_data.columns))\n",
    "    return final_data"
   ]
  },
  {
   "cell_type": "markdown",
   "metadata": {},
   "source": [
    "-----"
   ]
  },
  {
   "cell_type": "markdown",
   "metadata": {},
   "source": [
    "# Loading Data"
   ]
  },
  {
   "cell_type": "code",
   "execution_count": 4,
   "metadata": {},
   "outputs": [],
   "source": [
    "train_perf = pd.read_csv('/Users/ayoubelqadi/PycharmProjects/zindi_paper/data/trainperf.csv', low_memory=False)\n",
    "train_prevloans = pd.read_csv('/Users/ayoubelqadi/PycharmProjects/zindi_paper/data/trainprevloans.csv', low_memory=False)\n",
    "train_demographics = pd.read_csv('/Users/ayoubelqadi/PycharmProjects/zindi_paper/data/traindemographics.csv', low_memory=False)\n"
   ]
  },
  {
   "cell_type": "code",
   "execution_count": 5,
   "metadata": {},
   "outputs": [
    {
     "data": {
      "text/html": [
       "<div>\n",
       "<style scoped>\n",
       "    .dataframe tbody tr th:only-of-type {\n",
       "        vertical-align: middle;\n",
       "    }\n",
       "\n",
       "    .dataframe tbody tr th {\n",
       "        vertical-align: top;\n",
       "    }\n",
       "\n",
       "    .dataframe thead th {\n",
       "        text-align: right;\n",
       "    }\n",
       "</style>\n",
       "<table border=\"1\" class=\"dataframe\">\n",
       "  <thead>\n",
       "    <tr style=\"text-align: right;\">\n",
       "      <th></th>\n",
       "      <th>customerid</th>\n",
       "      <th>systemloanid</th>\n",
       "      <th>loannumber</th>\n",
       "      <th>approveddate</th>\n",
       "      <th>creationdate</th>\n",
       "      <th>loanamount</th>\n",
       "      <th>totaldue</th>\n",
       "      <th>termdays</th>\n",
       "      <th>referredby</th>\n",
       "      <th>good_bad_flag</th>\n",
       "    </tr>\n",
       "  </thead>\n",
       "  <tbody>\n",
       "    <tr>\n",
       "      <th>0</th>\n",
       "      <td>8a2a81a74ce8c05d014cfb32a0da1049</td>\n",
       "      <td>301994762</td>\n",
       "      <td>12</td>\n",
       "      <td>2017-07-25 08:22:56.000000</td>\n",
       "      <td>2017-07-25 07:22:47.000000</td>\n",
       "      <td>30000.0</td>\n",
       "      <td>34500.0</td>\n",
       "      <td>30</td>\n",
       "      <td>NaN</td>\n",
       "      <td>Good</td>\n",
       "    </tr>\n",
       "    <tr>\n",
       "      <th>1</th>\n",
       "      <td>8a85886e54beabf90154c0a29ae757c0</td>\n",
       "      <td>301965204</td>\n",
       "      <td>2</td>\n",
       "      <td>2017-07-05 17:04:41.000000</td>\n",
       "      <td>2017-07-05 16:04:18.000000</td>\n",
       "      <td>15000.0</td>\n",
       "      <td>17250.0</td>\n",
       "      <td>30</td>\n",
       "      <td>NaN</td>\n",
       "      <td>Good</td>\n",
       "    </tr>\n",
       "    <tr>\n",
       "      <th>2</th>\n",
       "      <td>8a8588f35438fe12015444567666018e</td>\n",
       "      <td>301966580</td>\n",
       "      <td>7</td>\n",
       "      <td>2017-07-06 14:52:57.000000</td>\n",
       "      <td>2017-07-06 13:52:51.000000</td>\n",
       "      <td>20000.0</td>\n",
       "      <td>22250.0</td>\n",
       "      <td>15</td>\n",
       "      <td>NaN</td>\n",
       "      <td>Good</td>\n",
       "    </tr>\n",
       "    <tr>\n",
       "      <th>3</th>\n",
       "      <td>8a85890754145ace015429211b513e16</td>\n",
       "      <td>301999343</td>\n",
       "      <td>3</td>\n",
       "      <td>2017-07-27 19:00:41.000000</td>\n",
       "      <td>2017-07-27 18:00:35.000000</td>\n",
       "      <td>10000.0</td>\n",
       "      <td>11500.0</td>\n",
       "      <td>15</td>\n",
       "      <td>NaN</td>\n",
       "      <td>Good</td>\n",
       "    </tr>\n",
       "    <tr>\n",
       "      <th>4</th>\n",
       "      <td>8a858970548359cc0154883481981866</td>\n",
       "      <td>301962360</td>\n",
       "      <td>9</td>\n",
       "      <td>2017-07-03 23:42:45.000000</td>\n",
       "      <td>2017-07-03 22:42:39.000000</td>\n",
       "      <td>40000.0</td>\n",
       "      <td>44000.0</td>\n",
       "      <td>30</td>\n",
       "      <td>NaN</td>\n",
       "      <td>Good</td>\n",
       "    </tr>\n",
       "    <tr>\n",
       "      <th>...</th>\n",
       "      <td>...</td>\n",
       "      <td>...</td>\n",
       "      <td>...</td>\n",
       "      <td>...</td>\n",
       "      <td>...</td>\n",
       "      <td>...</td>\n",
       "      <td>...</td>\n",
       "      <td>...</td>\n",
       "      <td>...</td>\n",
       "      <td>...</td>\n",
       "    </tr>\n",
       "    <tr>\n",
       "      <th>4363</th>\n",
       "      <td>8a858e6d58b0cc520158beeb14b22a5a</td>\n",
       "      <td>302003163</td>\n",
       "      <td>2</td>\n",
       "      <td>2017-07-30 09:19:42.000000</td>\n",
       "      <td>2017-07-30 08:18:30.000000</td>\n",
       "      <td>10000.0</td>\n",
       "      <td>13000.0</td>\n",
       "      <td>30</td>\n",
       "      <td>NaN</td>\n",
       "      <td>Bad</td>\n",
       "    </tr>\n",
       "    <tr>\n",
       "      <th>4364</th>\n",
       "      <td>8a858ee85cf400f5015cf44ab1c42d5c</td>\n",
       "      <td>301998967</td>\n",
       "      <td>2</td>\n",
       "      <td>2017-07-27 15:35:47.000000</td>\n",
       "      <td>2017-07-27 14:35:40.000000</td>\n",
       "      <td>10000.0</td>\n",
       "      <td>13000.0</td>\n",
       "      <td>30</td>\n",
       "      <td>NaN</td>\n",
       "      <td>Bad</td>\n",
       "    </tr>\n",
       "    <tr>\n",
       "      <th>4365</th>\n",
       "      <td>8a858f365b2547f3015b284597147c94</td>\n",
       "      <td>301995576</td>\n",
       "      <td>3</td>\n",
       "      <td>2017-07-25 16:25:57.000000</td>\n",
       "      <td>2017-07-25 15:24:47.000000</td>\n",
       "      <td>10000.0</td>\n",
       "      <td>11500.0</td>\n",
       "      <td>15</td>\n",
       "      <td>NaN</td>\n",
       "      <td>Bad</td>\n",
       "    </tr>\n",
       "    <tr>\n",
       "      <th>4366</th>\n",
       "      <td>8a858f935ca09667015ca0ee3bc63f51</td>\n",
       "      <td>301977679</td>\n",
       "      <td>2</td>\n",
       "      <td>2017-07-14 13:50:27.000000</td>\n",
       "      <td>2017-07-14 12:50:21.000000</td>\n",
       "      <td>10000.0</td>\n",
       "      <td>13000.0</td>\n",
       "      <td>30</td>\n",
       "      <td>8a858eda5c8863ff015c9dead65807bb</td>\n",
       "      <td>Bad</td>\n",
       "    </tr>\n",
       "    <tr>\n",
       "      <th>4367</th>\n",
       "      <td>8a858fd458639fcc015868eb14b542ad</td>\n",
       "      <td>301967124</td>\n",
       "      <td>8</td>\n",
       "      <td>2017-07-06 21:01:06.000000</td>\n",
       "      <td>2017-07-06 20:01:01.000000</td>\n",
       "      <td>30000.0</td>\n",
       "      <td>34500.0</td>\n",
       "      <td>30</td>\n",
       "      <td>NaN</td>\n",
       "      <td>Bad</td>\n",
       "    </tr>\n",
       "  </tbody>\n",
       "</table>\n",
       "<p>4368 rows × 10 columns</p>\n",
       "</div>"
      ],
      "text/plain": [
       "                            customerid  systemloanid  loannumber  \\\n",
       "0     8a2a81a74ce8c05d014cfb32a0da1049     301994762          12   \n",
       "1     8a85886e54beabf90154c0a29ae757c0     301965204           2   \n",
       "2     8a8588f35438fe12015444567666018e     301966580           7   \n",
       "3     8a85890754145ace015429211b513e16     301999343           3   \n",
       "4     8a858970548359cc0154883481981866     301962360           9   \n",
       "...                                ...           ...         ...   \n",
       "4363  8a858e6d58b0cc520158beeb14b22a5a     302003163           2   \n",
       "4364  8a858ee85cf400f5015cf44ab1c42d5c     301998967           2   \n",
       "4365  8a858f365b2547f3015b284597147c94     301995576           3   \n",
       "4366  8a858f935ca09667015ca0ee3bc63f51     301977679           2   \n",
       "4367  8a858fd458639fcc015868eb14b542ad     301967124           8   \n",
       "\n",
       "                    approveddate                creationdate  loanamount  \\\n",
       "0     2017-07-25 08:22:56.000000  2017-07-25 07:22:47.000000     30000.0   \n",
       "1     2017-07-05 17:04:41.000000  2017-07-05 16:04:18.000000     15000.0   \n",
       "2     2017-07-06 14:52:57.000000  2017-07-06 13:52:51.000000     20000.0   \n",
       "3     2017-07-27 19:00:41.000000  2017-07-27 18:00:35.000000     10000.0   \n",
       "4     2017-07-03 23:42:45.000000  2017-07-03 22:42:39.000000     40000.0   \n",
       "...                          ...                         ...         ...   \n",
       "4363  2017-07-30 09:19:42.000000  2017-07-30 08:18:30.000000     10000.0   \n",
       "4364  2017-07-27 15:35:47.000000  2017-07-27 14:35:40.000000     10000.0   \n",
       "4365  2017-07-25 16:25:57.000000  2017-07-25 15:24:47.000000     10000.0   \n",
       "4366  2017-07-14 13:50:27.000000  2017-07-14 12:50:21.000000     10000.0   \n",
       "4367  2017-07-06 21:01:06.000000  2017-07-06 20:01:01.000000     30000.0   \n",
       "\n",
       "      totaldue  termdays                        referredby good_bad_flag  \n",
       "0      34500.0        30                               NaN          Good  \n",
       "1      17250.0        30                               NaN          Good  \n",
       "2      22250.0        15                               NaN          Good  \n",
       "3      11500.0        15                               NaN          Good  \n",
       "4      44000.0        30                               NaN          Good  \n",
       "...        ...       ...                               ...           ...  \n",
       "4363   13000.0        30                               NaN           Bad  \n",
       "4364   13000.0        30                               NaN           Bad  \n",
       "4365   11500.0        15                               NaN           Bad  \n",
       "4366   13000.0        30  8a858eda5c8863ff015c9dead65807bb           Bad  \n",
       "4367   34500.0        30                               NaN           Bad  \n",
       "\n",
       "[4368 rows x 10 columns]"
      ]
     },
     "execution_count": 5,
     "metadata": {},
     "output_type": "execute_result"
    }
   ],
   "source": []
  },
  {
   "cell_type": "code",
   "execution_count": 44,
   "metadata": {},
   "outputs": [],
   "source": [
    "final = get_final_df(demographics=train_demographics, prev_loans=train_prevloans, perf=train_perf)\n"
   ]
  },
  {
   "cell_type": "code",
   "execution_count": 45,
   "metadata": {},
   "outputs": [
    {
     "data": {
      "text/plain": [
       "(3272, 63)"
      ]
     },
     "execution_count": 45,
     "metadata": {},
     "output_type": "execute_result"
    }
   ],
   "source": [
    "final.shape"
   ]
  },
  {
   "cell_type": "code",
   "execution_count": 46,
   "metadata": {},
   "outputs": [
    {
     "data": {
      "text/plain": [
       "(3272, 62)"
      ]
     },
     "execution_count": 46,
     "metadata": {},
     "output_type": "execute_result"
    }
   ],
   "source": [
    "X = final.drop(columns=['good_bad_flag']).to_numpy()\n",
    "y = final['good_bad_flag'].to_numpy(dtype=np.int)\n",
    "X.shape"
   ]
  },
  {
   "cell_type": "code",
   "execution_count": 47,
   "metadata": {},
   "outputs": [
    {
     "data": {
      "text/plain": [
       "0.2176039119804401"
      ]
     },
     "execution_count": 47,
     "metadata": {},
     "output_type": "execute_result"
    }
   ],
   "source": [
    "sum(y==1)/len(y)"
   ]
  },
  {
   "cell_type": "markdown",
   "metadata": {},
   "source": [
    "-----"
   ]
  },
  {
   "cell_type": "markdown",
   "metadata": {},
   "source": [
    "# XGBoost\n"
   ]
  },
  {
   "cell_type": "code",
   "execution_count": 48,
   "metadata": {},
   "outputs": [],
   "source": [
    "import xgboost as xgb\n",
    "from sklearn.preprocessing import StandardScaler\n",
    "from sklearn.model_selection import train_test_split\n",
    "from sklearn.model_selection import RandomizedSearchCV, GridSearchCV"
   ]
  },
  {
   "cell_type": "code",
   "execution_count": 49,
   "metadata": {},
   "outputs": [],
   "source": [
    "scaler = StandardScaler()\n",
    "X = scaler.fit_transform(X)"
   ]
  },
  {
   "cell_type": "code",
   "execution_count": 51,
   "metadata": {},
   "outputs": [],
   "source": [
    "#Optimized data structure for xgboost\n",
    "data_matrix = xgb.DMatrix(data=X, label=y)\n",
    "#Split data\n",
    "X_train, X_test, y_train, y_test = train_test_split(X, y, random_state=435, test_size=0.25)\n",
    "#Create the model\n",
    "params = {\n",
    "    'n_estimators': np.arange(500, 1100, 100),\n",
    "    'learning_rate': np.arange(0.05, 0.35, 0.025),\n",
    "    'max_depth': np.arange(3, 16, 16),\n",
    "    'min_child_weight': np.arange(1, 9, 2),\n",
    "    'gamma': np.arange(0, 0.5, 0.1),\n",
    "    'colsample_bytree': np.arange(0.3, 0.9, 0.2),\n",
    "    'subsample': np.arange(0, 1, 0.1)\n",
    "}\n",
    "\n",
    "\n",
    "#model = xgb.XGBClassifier(objective='binary:hinge', eval_metric=['error'])\n",
    "#random_search = RandomizedSearchCV(estimator=model, param_distributions=params, n_iter=5, n_jobs=-1, cv=5)\n"
   ]
  },
  {
   "cell_type": "markdown",
   "metadata": {},
   "source": [
    "### Results with parameters obtained in the paper"
   ]
  },
  {
   "cell_type": "code",
   "execution_count": 54,
   "metadata": {},
   "outputs": [],
   "source": [
    "from sklearn.metrics import f1_score, accuracy_score, precision_score, recall_score\n",
    "#Function to compute the main classification metrics\n",
    "def classification_metrics(model):\n",
    "    y_hat = model.predict(X_test)\n",
    "    f1 = f1_score(y_true=y_test, y_pred=y_hat)\n",
    "    f1 = round(f1*100, 4)\n",
    "    accuracy = accuracy_score(y_true=y_test, y_pred=y_hat)\n",
    "    accuracy = round(accuracy*100, 4)\n",
    "    precision = precision_score(y_true=y_test, y_pred=y_hat)\n",
    "    precision = round(precision*100, 4)\n",
    "    recall = recall_score(y_true=y_test, y_pred=y_hat)\n",
    "    recall = round(recall*100, 4)\n",
    "    print('Accuracy = {}\\nF1 = {}\\nPrecision = {}\\nRecall = {}\\n'.format(accuracy, f1, precision, recall))"
   ]
  },
  {
   "cell_type": "code",
   "execution_count": 55,
   "metadata": {},
   "outputs": [
    {
     "name": "stdout",
     "output_type": "stream",
     "text": [
      "[21:41:56] WARNING: /Users/travis/build/dmlc/xgboost/src/learner.cc:1061: Starting in XGBoost 1.3.0, the default evaluation metric used with the objective 'binary:logistic' was changed from 'error' to 'logloss'. Explicitly set eval_metric if you'd like to restore the old behavior.\n",
      "Accuracy = 78.8509\n",
      "F1 = 32.1569\n",
      "Precision = 56.9444\n",
      "Recall = 22.4044\n",
      "\n"
     ]
    }
   ],
   "source": [
    "paper_params = {\n",
    "    'n_estimators': 1000,\n",
    "    'learning_rate': 0.01,\n",
    "    'subsample': 0.8,\n",
    "    'reg_alpha': 1,\n",
    "    'max_depth': 6,\n",
    "    'objective': 'binary:logistic'\n",
    "}\n",
    "\n",
    "paper_model = xgb.XGBClassifier(**paper_params, use_label_encoder=False )\n",
    "paper_model.fit(X_train, y_train)\n",
    "classification_metrics(paper_model)\n",
    "\n",
    "\n",
    "\n"
   ]
  },
  {
   "cell_type": "markdown",
   "metadata": {},
   "source": [
    "# Hyperparameter Tuning"
   ]
  },
  {
   "cell_type": "code",
   "execution_count": 12,
   "metadata": {},
   "outputs": [
    {
     "name": "stdout",
     "output_type": "stream",
     "text": [
      "Fitting 5 folds for each of 16 candidates, totalling 80 fits\n"
     ]
    },
    {
     "name": "stderr",
     "output_type": "stream",
     "text": [
      "[Parallel(n_jobs=-1)]: Using backend LokyBackend with 12 concurrent workers.\n",
      "[Parallel(n_jobs=-1)]: Done   1 tasks      | elapsed:   31.5s\n",
      "[Parallel(n_jobs=-1)]: Done   8 tasks      | elapsed:   38.0s\n",
      "[Parallel(n_jobs=-1)]: Done  17 tasks      | elapsed:  1.3min\n",
      "[Parallel(n_jobs=-1)]: Done  26 tasks      | elapsed:  2.4min\n",
      "[Parallel(n_jobs=-1)]: Done  37 tasks      | elapsed:  3.4min\n",
      "[Parallel(n_jobs=-1)]: Done  48 tasks      | elapsed:  3.8min\n",
      "[Parallel(n_jobs=-1)]: Done  66 out of  80 | elapsed:  5.5min remaining:  1.2min\n",
      "[Parallel(n_jobs=-1)]: Done  75 out of  80 | elapsed:  6.3min remaining:   25.1s\n",
      "[Parallel(n_jobs=-1)]: Done  80 out of  80 | elapsed:  6.4min finished\n"
     ]
    },
    {
     "data": {
      "text/plain": [
       "GridSearchCV(cv=5,\n",
       "             estimator=XGBClassifier(base_score=None, booster=None,\n",
       "                                     colsample_bylevel=None,\n",
       "                                     colsample_bynode=None,\n",
       "                                     colsample_bytree=None, eval_metric=['auc'],\n",
       "                                     gamma=None, gpu_id=None,\n",
       "                                     importance_type='gain',\n",
       "                                     interaction_constraints=None,\n",
       "                                     learning_rate=None, max_delta_step=None,\n",
       "                                     max_depth=None, min_child_weight=None,\n",
       "                                     missing=nan, monotone_constraints=None,\n",
       "                                     n_e...\n",
       "                                     num_parallel_tree=None, random_state=None,\n",
       "                                     reg_alpha=None, reg_lambda=None,\n",
       "                                     scale_pos_weight=None, subsample=None,\n",
       "                                     tree_method=None, use_label_encoder=False,\n",
       "                                     validate_parameters=None, verbosity=None),\n",
       "             n_jobs=-1,\n",
       "             param_grid={'gamma': [0.3], 'learning_rate': [0.2, 0.3],\n",
       "                         'max_depth': [6, 8], 'n_estimators': [900, 1000],\n",
       "                         'subsample': [0.8, 1]},\n",
       "             return_train_score=True, scoring='accuracy', verbose=10)"
      ]
     },
     "execution_count": 12,
     "metadata": {},
     "output_type": "execute_result"
    }
   ],
   "source": [
    "#Grid seaarch printing function\n",
    "params_grid = {\n",
    "    'n_estimators': [900, 1000],\n",
    "    'learning_rate': [ 0.2, 0.3],\n",
    "    'max_depth': [6, 8],\n",
    "    #'min_child_weight': np.arange(1, 9, 2),\n",
    "    'gamma': [0.3],\n",
    "    #'colsample_bytree': np.arange(0.3, 0.9, 0.2),\n",
    "    'subsample': [0.8, 1]\n",
    "}\n",
    "\n",
    "model_gv = xgb.XGBClassifier(objective='binary:logistic', eval_metric=['auc'], use_label_encoder=False)\n",
    "grid_search = GridSearchCV(model_gv, params_grid, cv=5, return_train_score=True, verbose=10, scoring='accuracy', n_jobs=-1)\n",
    "\n",
    "grid_search.fit(X_train, y_train)\n",
    "\n",
    "\n",
    "\n",
    "\n",
    "\n",
    "\n",
    "\n"
   ]
  },
  {
   "cell_type": "code",
   "execution_count": 148,
   "metadata": {},
   "outputs": [],
   "source": [
    "#for i in range(len(grid_search.cv_results_['mean_test_score'])):\n",
    " #   print(grid_search.cv_results_['params'][i], round(grid_search.cv_results_['mean_test_score'][i], 3))\n"
   ]
  },
  {
   "cell_type": "code",
   "execution_count": 15,
   "metadata": {},
   "outputs": [
    {
     "name": "stdout",
     "output_type": "stream",
     "text": [
      "Accuracy = 0.7814814814814814\n",
      "F1 = 0.358695652173913\n",
      "Precision = 0.5038167938931297\n",
      "Recall = 0.27848101265822783\n",
      "\n"
     ]
    }
   ],
   "source": [
    "from sklearn.metrics import f1_score, accuracy_score, precision_score, recall_score\n",
    "benchmark_model = xgb.XGBClassifier(**grid_search.best_params_, objective='binary:logistic', eval_metric=['auc'])\n",
    "benchmark_model.fit(X_train, y_train)\n",
    "y_hat = benchmark_model.predict(X_test)\n",
    "f1 = f1_score(y_true=y_test, y_pred=y_hat)\n",
    "accuracy = accuracy_score(y_true=y_test, y_pred=y_hat)\n",
    "precision = precision_score(y_true=y_test, y_pred=y_hat)\n",
    "recall = recall_score(y_true=y_test, y_pred=y_hat)\n",
    "\n",
    "print('Accuracy = {}\\nF1 = {}\\nPrecision = {}\\nRecall = {}\\n'.format(accuracy, f1, precision, recall))\n"
   ]
  },
  {
   "cell_type": "code",
   "execution_count": 72,
   "metadata": {},
   "outputs": [
    {
     "data": {
      "text/plain": [
       "(2192, 62)"
      ]
     },
     "execution_count": 72,
     "metadata": {},
     "output_type": "execute_result"
    }
   ],
   "source": [
    "X_train.shape"
   ]
  },
  {
   "cell_type": "code",
   "execution_count": 149,
   "metadata": {},
   "outputs": [],
   "source": [
    "#for i in range(X_train.shape[1]):\n",
    " #   print('Feature {}: importance {}'.format(final.drop(columns=['good_bad_flag']).columns[i],  benchmark_model.feature_importances_[i]))\n"
   ]
  },
  {
   "cell_type": "code",
   "execution_count": 16,
   "metadata": {},
   "outputs": [
    {
     "data": {
      "text/plain": [
       "array([[778,  65],\n",
       "       [171,  66]])"
      ]
     },
     "execution_count": 16,
     "metadata": {},
     "output_type": "execute_result"
    }
   ],
   "source": [
    "from sklearn.metrics import confusion_matrix\n",
    "confusion_matrix(y_true=y_test, y_pred=y_hat)"
   ]
  },
  {
   "cell_type": "code",
   "execution_count": 65,
   "metadata": {},
   "outputs": [
    {
     "data": {
      "text/plain": [
       "array([[811,  32],\n",
       "       [192,  45]])"
      ]
     },
     "execution_count": 65,
     "metadata": {},
     "output_type": "execute_result"
    }
   ],
   "source": [
    "confusion_matrix(y_true=y_test, y_pred=y_hat)"
   ]
  },
  {
   "cell_type": "code",
   "execution_count": 7,
   "metadata": {},
   "outputs": [],
   "source": [
    "from sklearn.model_selection import train_test_split\n",
    "from sklearn.model_selection import RandomizedSearchCV\n",
    "from xgboost import XGBClassifier\n",
    "import sklearn.metrics as metrics\n",
    "import matplotlib.pyplot as plt\n",
    "from sklearn.preprocessing import StandardScaler\n"
   ]
  },
  {
   "cell_type": "code",
   "execution_count": 8,
   "metadata": {},
   "outputs": [],
   "source": [
    "scaler = StandardScaler()\n",
    "X = scaler.fit_transform(X)\n",
    "\n",
    "\n",
    "X_train, X_test, y_train, y_test = train_test_split(X, y, random_state=435, test_size=0.2)\n",
    "\n",
    "\n",
    "xgb = XGBClassifier()\n"
   ]
  },
  {
   "cell_type": "code",
   "execution_count": 9,
   "metadata": {},
   "outputs": [
    {
     "name": "stderr",
     "output_type": "stream",
     "text": [
      "/Users/ayoubelqadi/opt/anaconda3/lib/python3.8/site-packages/xgboost/sklearn.py:888: UserWarning: The use of label encoder in XGBClassifier is deprecated and will be removed in a future release. To remove this warning, do the following: 1) Pass option use_label_encoder=False when constructing XGBClassifier object; and 2) Encode your labels (y) as integers starting with 0, i.e. 0, 1, 2, ..., [num_class - 1].\n",
      "  warnings.warn(label_encoder_deprecation_msg, UserWarning)\n"
     ]
    },
    {
     "name": "stdout",
     "output_type": "stream",
     "text": [
      "[22:17:05] WARNING: /Users/travis/build/dmlc/xgboost/src/learner.cc:1061: Starting in XGBoost 1.3.0, the default evaluation metric used with the objective 'binary:logistic' was changed from 'error' to 'logloss'. Explicitly set eval_metric if you'd like to restore the old behavior.\n"
     ]
    },
    {
     "data": {
      "text/plain": [
       "XGBClassifier(base_score=0.5, booster='gbtree', colsample_bylevel=1,\n",
       "              colsample_bynode=1, colsample_bytree=1, gamma=0, gpu_id=-1,\n",
       "              importance_type='gain', interaction_constraints='',\n",
       "              learning_rate=0.300000012, max_delta_step=0, max_depth=6,\n",
       "              min_child_weight=1, missing=nan, monotone_constraints='()',\n",
       "              n_estimators=100, n_jobs=12, num_parallel_tree=1, random_state=0,\n",
       "              reg_alpha=0, reg_lambda=1, scale_pos_weight=1, subsample=1,\n",
       "              tree_method='exact', validate_parameters=1, verbosity=None)"
      ]
     },
     "execution_count": 9,
     "metadata": {},
     "output_type": "execute_result"
    }
   ],
   "source": [
    "xgb.fit(X_train, y_train)"
   ]
  },
  {
   "cell_type": "code",
   "execution_count": 10,
   "metadata": {},
   "outputs": [],
   "source": [
    "probs = xgb.predict_proba(X_test)\n",
    "preds = probs[:,1]\n",
    "fpr, tpr, threshold = metrics.roc_curve(y_test, preds)\n",
    "roc_auc = metrics.auc(fpr, tpr)"
   ]
  },
  {
   "cell_type": "code",
   "execution_count": 11,
   "metadata": {},
   "outputs": [
    {
     "data": {
      "image/png": "[encoded data removed]",
      "text/plain": [
       "<Figure size 432x288 with 1 Axes>"
      ]
     },
     "metadata": {
      "needs_background": "light"
     },
     "output_type": "display_data"
    }
   ],
   "source": [
    "plt.title('Receiver Operating Characteristic')\n",
    "plt.plot(fpr, tpr, 'b', label = 'AUC(xgboost) = %0.2f' % roc_auc)\n",
    "\n",
    "\n",
    "\n",
    "plt.legend(loc = 'lower right')\n",
    "plt.plot([0, 1], [0, 1],'r--')\n",
    "plt.xlim([0, 1])\n",
    "plt.ylim([0, 1])\n",
    "plt.ylabel('True Positive Rate')\n",
    "plt.xlabel('False Positive Rate')\n",
    "plt.show()"
   ]
  },
  {
   "cell_type": "markdown",
   "metadata": {},
   "source": [
    "---"
   ]
  },
  {
   "cell_type": "code",
   "execution_count": 39,
   "metadata": {},
   "outputs": [],
   "source": [
    "from sklearn.metrics import roc_auc_score, auc, roc_curve\n",
    "def results_model_test(model_name):\n",
    "    \n",
    "    prob = model_name.predict_proba(X_test)\n",
    "    pred = prob[:,1]\n",
    "    fpr, tpr, threshold = roc_curve(y_test, pred)\n",
    "    roc_auc = auc(fpr, tpr)\n",
    "    \n",
    "    plt.title('Receiver Operating Characteristic')\n",
    "    plt.plot(fpr, tpr, 'b', label = 'AUC = %0.2f' % roc_auc)\n",
    "    plt.plot([0, 1], [0, 1],'r--')\n",
    "    plt.xlim([0, 1])\n",
    "    plt.ylim([0, 1])\n",
    "    plt.legend(loc = 'lower right')\n",
    "    plt.ylabel('True Positive Rate')\n",
    "    plt.xlabel('False Positive Rate')\n",
    "    plt.show()"
   ]
  },
  {
   "cell_type": "code",
   "execution_count": 13,
   "metadata": {},
   "outputs": [
    {
     "name": "stderr",
     "output_type": "stream",
     "text": [
      "/Users/ayoubelqadi/opt/anaconda3/lib/python3.8/site-packages/xgboost/sklearn.py:888: UserWarning: The use of label encoder in XGBClassifier is deprecated and will be removed in a future release. To remove this warning, do the following: 1) Pass option use_label_encoder=False when constructing XGBClassifier object; and 2) Encode your labels (y) as integers starting with 0, i.e. 0, 1, 2, ..., [num_class - 1].\n",
      "  warnings.warn(label_encoder_deprecation_msg, UserWarning)\n"
     ]
    },
    {
     "name": "stdout",
     "output_type": "stream",
     "text": [
      "[22:19:21] WARNING: /Users/travis/build/dmlc/xgboost/src/learner.cc:1061: Starting in XGBoost 1.3.0, the default evaluation metric used with the objective 'binary:logistic' was changed from 'error' to 'logloss'. Explicitly set eval_metric if you'd like to restore the old behavior.\n"
     ]
    },
    {
     "data": {
      "text/plain": [
       "RandomizedSearchCV(cv=5,\n",
       "                   estimator=XGBClassifier(base_score=None, booster=None,\n",
       "                                           colsample_bylevel=None,\n",
       "                                           colsample_bynode=None,\n",
       "                                           colsample_bytree=None, gamma=None,\n",
       "                                           gpu_id=None, importance_type='gain',\n",
       "                                           interaction_constraints=None,\n",
       "                                           learning_rate=None,\n",
       "                                           max_delta_step=None, max_depth=None,\n",
       "                                           min_child_weight=None, missing=nan,\n",
       "                                           monotone_constraints=None,\n",
       "                                           n_estimators=100,...\n",
       "                                           subsample=None, tree_method=None,\n",
       "                                           validate_parameters=None,\n",
       "                                           verbosity=None),\n",
       "                   n_iter=5, n_jobs=-1,\n",
       "                   param_distributions={'colsample_bytree': array([0.3, 0.5, 0.7, 0.9]),\n",
       "                                        'gamma': array([0. , 0.1, 0.2, 0.3, 0.4]),\n",
       "                                        'learning_rate': array([0.05 , 0.075, 0.1  , 0.125, 0.15 , 0.175, 0.2  , 0.225, 0.25 ,\n",
       "       0.275, 0.3  , 0.325]),\n",
       "                                        'max_depth': array([3]),\n",
       "                                        'min_child_weight': array([1, 3, 5, 7])},\n",
       "                   scoring='roc_auc')"
      ]
     },
     "execution_count": 13,
     "metadata": {},
     "output_type": "execute_result"
    }
   ],
   "source": [
    "from xgboost import XGBClassifier\n",
    "from sklearn.model_selection import RandomizedSearchCV, GridSearchCV\n",
    "\n",
    "\n",
    "params = {\n",
    "    'learning_rate': np.arange(0.05, 0.35, 0.025),\n",
    "    'max_depth': np.arange(3, 16, 16),\n",
    "    'min_child_weight': np.arange(1, 9, 2),\n",
    "    'gamma': np.arange(0, 0.5, 0.1),\n",
    "    'colsample_bytree': np.arange(0.3, 0.9, 0.2)\n",
    "}\n",
    "\n",
    "xgboost_cl = XGBClassifier()\n",
    "random_search = RandomizedSearchCV(xgboost_cl, param_distributions=params, scoring='roc_auc', n_iter=5, n_jobs=-1, cv=5)\n",
    "\n",
    "random_search.fit(X_train, y_train)"
   ]
  },
  {
   "cell_type": "code",
   "execution_count": 14,
   "metadata": {},
   "outputs": [
    {
     "name": "stdout",
     "output_type": "stream",
     "text": [
      "[22:19:27] WARNING: /Users/travis/build/dmlc/xgboost/src/learner.cc:1061: Starting in XGBoost 1.3.0, the default evaluation metric used with the objective 'binary:logistic' was changed from 'error' to 'logloss'. Explicitly set eval_metric if you'd like to restore the old behavior.\n"
     ]
    },
    {
     "data": {
      "image/png": "[encoded data removed]",
      "text/plain": [
       "<Figure size 432x288 with 1 Axes>"
      ]
     },
     "metadata": {
      "needs_background": "light"
     },
     "output_type": "display_data"
    }
   ],
   "source": [
    "best_model = XGBClassifier(**random_search.best_params_)\n",
    "best_model.fit(X_train, y_train)\n",
    "results_model_test(best_model)"
   ]
  },
  {
   "cell_type": "markdown",
   "metadata": {},
   "source": [
    "----\n",
    "# Submit Data"
   ]
  },
  {
   "cell_type": "code",
   "execution_count": 37,
   "metadata": {},
   "outputs": [],
   "source": [
    "test_perf = pd.read_csv('/Users/ayoubelqadi/PycharmProjects/zindi_paper/data/testperf.csv', low_memory=False)\n",
    "test_prevloans = pd.read_csv('/Users/ayoubelqadi/PycharmProjects/zindi_paper/data/testprevloans.csv', low_memory=False)\n",
    "test_demographics = pd.read_csv('/Users/ayoubelqadi/PycharmProjects/zindi_paper/data/testdemographics.csv', low_memory=False)\n",
    "#test = get_final_df(demographics=test_demographics, prev_loans=test_prevloans, perf=test_perf, is_train_data=False)"
   ]
  },
  {
   "cell_type": "code",
   "execution_count": null,
   "metadata": {},
   "outputs": [],
   "source": [
    "\n",
    "    \n",
    "    "
   ]
  },
  {
   "cell_type": "code",
   "execution_count": null,
   "metadata": {},
   "outputs": [],
   "source": []
  },
  {
   "cell_type": "code",
   "execution_count": 38,
   "metadata": {},
   "outputs": [],
   "source": [
    "def submit_function(test_perf, test_prevloans, test_demographics):\n",
    "    test_data_set = get_final_df(demographics=test_demographics, prev_loans=test_prevloans, perf=test_perf, is_train_data=False)\n",
    "    cutomer_id = test_data_set['customerid']\n",
    "    #Add columns with dummies that not appears in test set\n",
    "    for training_column in final.columns:\n",
    "        if training_column in test.columns:\n",
    "            pass\n",
    "        elif training_column == 'good_bad_flag':\n",
    "            pass\n",
    "        else:\n",
    "            test[training_column] = np.zeros(test.shape[0])\n",
    "    #Convert to dgb matrix and to numpy\n",
    "    X = test_data_set.drop(columns=['customerid', 'systemloanid']).to_numpy()\n",
    "    #Scale test set\n",
    "    scal = StandardScaler()\n",
    "    X = scal.fit_transform(X)\n",
    "    #X_matrix = xgb.DMatrix(data=X)\n",
    "    y_hat = benchmark_model.predict(X)\n",
    "    results = pd.DataFrame(columns=['customerID', 'Good_Bad_flag'])\n",
    "    results['customerID'] = cutomer_id\n",
    "    results['Good_Bad_flag'] = y_hat\n",
    "    \n",
    "    return results\n",
    "    \n",
    "    \n",
    "    \n",
    "    \n",
    "    \n",
    "    \n",
    "    \n",
    "    "
   ]
  },
  {
   "cell_type": "code",
   "execution_count": 30,
   "metadata": {},
   "outputs": [
    {
     "data": {
      "text/plain": [
       "array([[-0.12598816, -0.47215457,  0.49674264, ...,  0.38163381,\n",
       "         0.11688212, -0.45006695],\n",
       "       [-0.12598816, -0.47215457,  0.49674264, ..., -0.61124554,\n",
       "        -0.55515843, -0.45006695],\n",
       "       [-0.12598816, -0.47215457,  0.49674264, ..., -0.61124554,\n",
       "        -0.45733594,  0.80456614],\n",
       "       ...,\n",
       "       [-0.12598816, -0.47215457,  0.49674264, ..., -0.61124554,\n",
       "        -0.45733594,  0.80456614],\n",
       "       [-0.12598816, -0.47215457,  0.49674264, ..., -0.61124554,\n",
       "        -0.45733594,  0.80456614],\n",
       "       [-0.12598816, -0.47215457,  0.49674264, ..., -0.74914545,\n",
       "        -0.75080342, -0.45006695]])"
      ]
     },
     "execution_count": 30,
     "metadata": {},
     "output_type": "execute_result"
    }
   ],
   "source": [
    "#test\n",
    "test_data_set = get_final_df(demographics=test_demographics, prev_loans=test_prevloans, perf=test_perf, is_train_data=False)\n",
    "cutomer_id = test_data_set['customerid']\n",
    "X = test_data_set.drop(columns=['customerid', 'systemloanid']).to_numpy()\n",
    "scal = StandardScaler()\n",
    "\n",
    "X = scal.fit_transform(X)\n",
    "X"
   ]
  },
  {
   "cell_type": "code",
   "execution_count": 39,
   "metadata": {},
   "outputs": [
    {
     "ename": "ValueError",
     "evalue": "feature_names mismatch: ['f0', 'f1', 'f2', 'f3', 'f4', 'f5', 'f6', 'f7', 'f8', 'f9', 'f10', 'f11', 'f12', 'f13', 'f14', 'f15', 'f16', 'f17', 'f18', 'f19', 'f20', 'f21', 'f22', 'f23', 'f24', 'f25', 'f26', 'f27', 'f28', 'f29', 'f30', 'f31', 'f32', 'f33', 'f34', 'f35', 'f36', 'f37', 'f38', 'f39', 'f40', 'f41', 'f42', 'f43', 'f44', 'f45', 'f46', 'f47', 'f48', 'f49', 'f50', 'f51', 'f52', 'f53', 'f54', 'f55', 'f56', 'f57', 'f58', 'f59', 'f60', 'f61'] ['f0', 'f1', 'f2', 'f3', 'f4', 'f5', 'f6', 'f7', 'f8', 'f9', 'f10', 'f11', 'f12', 'f13', 'f14', 'f15', 'f16', 'f17', 'f18', 'f19', 'f20', 'f21', 'f22', 'f23', 'f24', 'f25', 'f26', 'f27', 'f28', 'f29', 'f30', 'f31', 'f32', 'f33', 'f34', 'f35', 'f36', 'f37', 'f38', 'f39', 'f40', 'f41', 'f42', 'f43', 'f44', 'f45', 'f46', 'f47', 'f48', 'f49', 'f50', 'f51', 'f52', 'f53', 'f54', 'f55', 'f56', 'f57', 'f58']\nexpected f60, f61, f59 in input data",
     "output_type": "error",
     "traceback": [
      "\u001b[0;31m---------------------------------------------------------------------------\u001b[0m",
      "\u001b[0;31mValueError\u001b[0m                                Traceback (most recent call last)",
      "\u001b[0;32m<ipython-input-39-8efbdd2638e3>\u001b[0m in \u001b[0;36m<module>\u001b[0;34m\u001b[0m\n\u001b[0;32m----> 1\u001b[0;31m \u001b[0msubmit_function\u001b[0m\u001b[0;34m(\u001b[0m\u001b[0mtest_perf\u001b[0m\u001b[0;34m,\u001b[0m \u001b[0mtest_prevloans\u001b[0m\u001b[0;34m,\u001b[0m \u001b[0mtest_demographics\u001b[0m\u001b[0;34m)\u001b[0m\u001b[0;34m\u001b[0m\u001b[0;34m\u001b[0m\u001b[0m\n\u001b[0m",
      "\u001b[0;32m<ipython-input-38-8c5727dd5ffb>\u001b[0m in \u001b[0;36msubmit_function\u001b[0;34m(test_perf, test_prevloans, test_demographics)\u001b[0m\n\u001b[1;32m     16\u001b[0m     \u001b[0mX\u001b[0m \u001b[0;34m=\u001b[0m \u001b[0mscal\u001b[0m\u001b[0;34m.\u001b[0m\u001b[0mfit_transform\u001b[0m\u001b[0;34m(\u001b[0m\u001b[0mX\u001b[0m\u001b[0;34m)\u001b[0m\u001b[0;34m\u001b[0m\u001b[0;34m\u001b[0m\u001b[0m\n\u001b[1;32m     17\u001b[0m     \u001b[0;31m#X_matrix = xgb.DMatrix(data=X)\u001b[0m\u001b[0;34m\u001b[0m\u001b[0;34m\u001b[0m\u001b[0;34m\u001b[0m\u001b[0m\n\u001b[0;32m---> 18\u001b[0;31m     \u001b[0my_hat\u001b[0m \u001b[0;34m=\u001b[0m \u001b[0mbenchmark_model\u001b[0m\u001b[0;34m.\u001b[0m\u001b[0mpredict\u001b[0m\u001b[0;34m(\u001b[0m\u001b[0mX\u001b[0m\u001b[0;34m)\u001b[0m\u001b[0;34m\u001b[0m\u001b[0;34m\u001b[0m\u001b[0m\n\u001b[0m\u001b[1;32m     19\u001b[0m     \u001b[0mresults\u001b[0m \u001b[0;34m=\u001b[0m \u001b[0mpd\u001b[0m\u001b[0;34m.\u001b[0m\u001b[0mDataFrame\u001b[0m\u001b[0;34m(\u001b[0m\u001b[0mcolumns\u001b[0m\u001b[0;34m=\u001b[0m\u001b[0;34m[\u001b[0m\u001b[0;34m'customerID'\u001b[0m\u001b[0;34m,\u001b[0m \u001b[0;34m'Good_Bad_flag'\u001b[0m\u001b[0;34m]\u001b[0m\u001b[0;34m)\u001b[0m\u001b[0;34m\u001b[0m\u001b[0;34m\u001b[0m\u001b[0m\n\u001b[1;32m     20\u001b[0m     \u001b[0mresults\u001b[0m\u001b[0;34m[\u001b[0m\u001b[0;34m'customerID'\u001b[0m\u001b[0;34m]\u001b[0m \u001b[0;34m=\u001b[0m \u001b[0mcutomer_id\u001b[0m\u001b[0;34m\u001b[0m\u001b[0;34m\u001b[0m\u001b[0m\n",
      "\u001b[0;32m~/opt/anaconda3/lib/python3.8/site-packages/xgboost/sklearn.py\u001b[0m in \u001b[0;36mpredict\u001b[0;34m(self, data, output_margin, ntree_limit, validate_features, base_margin)\u001b[0m\n\u001b[1;32m    973\u001b[0m         \u001b[0;32mif\u001b[0m \u001b[0mntree_limit\u001b[0m \u001b[0;32mis\u001b[0m \u001b[0;32mNone\u001b[0m\u001b[0;34m:\u001b[0m\u001b[0;34m\u001b[0m\u001b[0;34m\u001b[0m\u001b[0m\n\u001b[1;32m    974\u001b[0m             \u001b[0mntree_limit\u001b[0m \u001b[0;34m=\u001b[0m \u001b[0mgetattr\u001b[0m\u001b[0;34m(\u001b[0m\u001b[0mself\u001b[0m\u001b[0;34m,\u001b[0m \u001b[0;34m\"best_ntree_limit\"\u001b[0m\u001b[0;34m,\u001b[0m \u001b[0;36m0\u001b[0m\u001b[0;34m)\u001b[0m\u001b[0;34m\u001b[0m\u001b[0;34m\u001b[0m\u001b[0m\n\u001b[0;32m--> 975\u001b[0;31m         class_probs = self.get_booster().predict(\n\u001b[0m\u001b[1;32m    976\u001b[0m             \u001b[0mtest_dmatrix\u001b[0m\u001b[0;34m,\u001b[0m\u001b[0;34m\u001b[0m\u001b[0;34m\u001b[0m\u001b[0m\n\u001b[1;32m    977\u001b[0m             \u001b[0moutput_margin\u001b[0m\u001b[0;34m=\u001b[0m\u001b[0moutput_margin\u001b[0m\u001b[0;34m,\u001b[0m\u001b[0;34m\u001b[0m\u001b[0;34m\u001b[0m\u001b[0m\n",
      "\u001b[0;32m~/opt/anaconda3/lib/python3.8/site-packages/xgboost/core.py\u001b[0m in \u001b[0;36mpredict\u001b[0;34m(self, data, output_margin, ntree_limit, pred_leaf, pred_contribs, approx_contribs, pred_interactions, validate_features, training)\u001b[0m\n\u001b[1;32m   1470\u001b[0m \u001b[0;34m\u001b[0m\u001b[0m\n\u001b[1;32m   1471\u001b[0m         \u001b[0;32mif\u001b[0m \u001b[0mvalidate_features\u001b[0m\u001b[0;34m:\u001b[0m\u001b[0;34m\u001b[0m\u001b[0;34m\u001b[0m\u001b[0m\n\u001b[0;32m-> 1472\u001b[0;31m             \u001b[0mself\u001b[0m\u001b[0;34m.\u001b[0m\u001b[0m_validate_features\u001b[0m\u001b[0;34m(\u001b[0m\u001b[0mdata\u001b[0m\u001b[0;34m)\u001b[0m\u001b[0;34m\u001b[0m\u001b[0;34m\u001b[0m\u001b[0m\n\u001b[0m\u001b[1;32m   1473\u001b[0m \u001b[0;34m\u001b[0m\u001b[0m\n\u001b[1;32m   1474\u001b[0m         \u001b[0mlength\u001b[0m \u001b[0;34m=\u001b[0m \u001b[0mc_bst_ulong\u001b[0m\u001b[0;34m(\u001b[0m\u001b[0;34m)\u001b[0m\u001b[0;34m\u001b[0m\u001b[0;34m\u001b[0m\u001b[0m\n",
      "\u001b[0;32m~/opt/anaconda3/lib/python3.8/site-packages/xgboost/core.py\u001b[0m in \u001b[0;36m_validate_features\u001b[0;34m(self, data)\u001b[0m\n\u001b[1;32m   2045\u001b[0m                             ', '.join(str(s) for s in my_missing))\n\u001b[1;32m   2046\u001b[0m \u001b[0;34m\u001b[0m\u001b[0m\n\u001b[0;32m-> 2047\u001b[0;31m                 raise ValueError(msg.format(self.feature_names,\n\u001b[0m\u001b[1;32m   2048\u001b[0m                                             data.feature_names))\n\u001b[1;32m   2049\u001b[0m \u001b[0;34m\u001b[0m\u001b[0m\n",
      "\u001b[0;31mValueError\u001b[0m: feature_names mismatch: ['f0', 'f1', 'f2', 'f3', 'f4', 'f5', 'f6', 'f7', 'f8', 'f9', 'f10', 'f11', 'f12', 'f13', 'f14', 'f15', 'f16', 'f17', 'f18', 'f19', 'f20', 'f21', 'f22', 'f23', 'f24', 'f25', 'f26', 'f27', 'f28', 'f29', 'f30', 'f31', 'f32', 'f33', 'f34', 'f35', 'f36', 'f37', 'f38', 'f39', 'f40', 'f41', 'f42', 'f43', 'f44', 'f45', 'f46', 'f47', 'f48', 'f49', 'f50', 'f51', 'f52', 'f53', 'f54', 'f55', 'f56', 'f57', 'f58', 'f59', 'f60', 'f61'] ['f0', 'f1', 'f2', 'f3', 'f4', 'f5', 'f6', 'f7', 'f8', 'f9', 'f10', 'f11', 'f12', 'f13', 'f14', 'f15', 'f16', 'f17', 'f18', 'f19', 'f20', 'f21', 'f22', 'f23', 'f24', 'f25', 'f26', 'f27', 'f28', 'f29', 'f30', 'f31', 'f32', 'f33', 'f34', 'f35', 'f36', 'f37', 'f38', 'f39', 'f40', 'f41', 'f42', 'f43', 'f44', 'f45', 'f46', 'f47', 'f48', 'f49', 'f50', 'f51', 'f52', 'f53', 'f54', 'f55', 'f56', 'f57', 'f58']\nexpected f60, f61, f59 in input data"
     ]
    }
   ],
   "source": [
    "submit_function(test_perf, test_prevloans, test_demographics)"
   ]
  },
  {
   "cell_type": "code",
   "execution_count": 35,
   "metadata": {},
   "outputs": [
    {
     "data": {
      "text/plain": [
       "Index(['bank_account_type_Current', 'bank_account_type_Other',\n",
       "       'bank_account_type_Savings', 'bank_name_clients_Access Bank',\n",
       "       'bank_name_clients_Diamond Bank', 'bank_name_clients_EcoBank',\n",
       "       'bank_name_clients_FCMB', 'bank_name_clients_Fidelity Bank',\n",
       "       'bank_name_clients_First Bank', 'bank_name_clients_GT Bank',\n",
       "       'bank_name_clients_Heritage Bank', 'bank_name_clients_Keystone Bank',\n",
       "       'bank_name_clients_Skye Bank', 'bank_name_clients_Stanbic IBTC',\n",
       "       'bank_name_clients_Standard Chartered',\n",
       "       'bank_name_clients_Sterling Bank', 'bank_name_clients_UBA',\n",
       "       'bank_name_clients_Union Bank', 'bank_name_clients_Unity Bank',\n",
       "       'bank_name_clients_Wema Bank', 'bank_name_clients_Zenith Bank',\n",
       "       'birthdate', 'diff_closeddate_creationdate_max',\n",
       "       'diff_closeddate_creationdate_mean', 'diff_closeddate_creationdate_min',\n",
       "       'diff_firstduedate_firstrepaiddate_max',\n",
       "       'diff_firstduedate_firstrepaiddate_mean',\n",
       "       'diff_firstduedate_firstrepaiddate_min', 'due_dayofweek_max',\n",
       "       'due_dayofweek_mean', 'due_dayofweek_min',\n",
       "       'employment_status_clients_Contract',\n",
       "       'employment_status_clients_Permanent',\n",
       "       'employment_status_clients_Retired',\n",
       "       'employment_status_clients_Self-Employed',\n",
       "       'employment_status_clients_Student',\n",
       "       'employment_status_clients_Unemployed',\n",
       "       'employment_status_clients_non-defined', 'good_bad_flag',\n",
       "       'interest_max', 'interest_mean', 'interest_min', 'interest_rate_max',\n",
       "       'interest_rate_mean', 'interest_rate_min', 'latitude_gps', 'loanamount',\n",
       "       'loanamount_max', 'loanamount_mean', 'loanamount_min', 'loannumber',\n",
       "       'longitude_gps', 'repaid_dayofweek_max', 'repaid_dayofweek_mean',\n",
       "       'repaid_dayofweek_min', 'termdays', 'termdays_max', 'termdays_mean',\n",
       "       'termdays_min', 'totaldue', 'totaldue_max', 'totaldue_mean',\n",
       "       'totaldue_min'],\n",
       "      dtype='object')"
      ]
     },
     "execution_count": 35,
     "metadata": {},
     "output_type": "execute_result"
    }
   ],
   "source": [
    "final.columns"
   ]
  },
  {
   "cell_type": "code",
   "execution_count": 36,
   "metadata": {},
   "outputs": [
    {
     "data": {
      "text/plain": [
       "Index(['bank_account_type_Current', 'bank_account_type_Other',\n",
       "       'bank_account_type_Savings', 'bank_name_clients_Access Bank',\n",
       "       'bank_name_clients_Diamond Bank', 'bank_name_clients_EcoBank',\n",
       "       'bank_name_clients_FCMB', 'bank_name_clients_Fidelity Bank',\n",
       "       'bank_name_clients_First Bank', 'bank_name_clients_GT Bank',\n",
       "       'bank_name_clients_Heritage Bank', 'bank_name_clients_Keystone Bank',\n",
       "       'bank_name_clients_Skye Bank', 'bank_name_clients_Stanbic IBTC',\n",
       "       'bank_name_clients_Standard Chartered',\n",
       "       'bank_name_clients_Sterling Bank', 'bank_name_clients_UBA',\n",
       "       'bank_name_clients_Union Bank', 'bank_name_clients_Unity Bank',\n",
       "       'bank_name_clients_Wema Bank', 'bank_name_clients_Zenith Bank',\n",
       "       'birthdate', 'customerid', 'diff_closeddate_creationdate_max',\n",
       "       'diff_closeddate_creationdate_mean', 'diff_closeddate_creationdate_min',\n",
       "       'diff_firstduedate_firstrepaiddate_max',\n",
       "       'diff_firstduedate_firstrepaiddate_mean',\n",
       "       'diff_firstduedate_firstrepaiddate_min', 'due_dayofweek_max',\n",
       "       'due_dayofweek_mean', 'due_dayofweek_min',\n",
       "       'employment_status_clients_Contract',\n",
       "       'employment_status_clients_Permanent',\n",
       "       'employment_status_clients_Retired',\n",
       "       'employment_status_clients_Self-Employed',\n",
       "       'employment_status_clients_Student',\n",
       "       'employment_status_clients_Unemployed',\n",
       "       'employment_status_clients_non-defined', 'interest_max',\n",
       "       'interest_mean', 'interest_min', 'interest_rate_max',\n",
       "       'interest_rate_mean', 'interest_rate_min', 'latitude_gps', 'loanamount',\n",
       "       'loanamount_max', 'loanamount_mean', 'loanamount_min', 'loannumber',\n",
       "       'longitude_gps', 'repaid_dayofweek_max', 'repaid_dayofweek_mean',\n",
       "       'repaid_dayofweek_min', 'systemloanid', 'termdays', 'termdays_max',\n",
       "       'termdays_mean', 'termdays_min', 'totaldue', 'totaldue_max',\n",
       "       'totaldue_mean', 'totaldue_min'],\n",
       "      dtype='object')"
      ]
     },
     "execution_count": 36,
     "metadata": {},
     "output_type": "execute_result"
    }
   ],
   "source": [
    "test.columns"
   ]
  },
  {
   "cell_type": "code",
   "execution_count": 166,
   "metadata": {},
   "outputs": [
    {
     "data": {
      "text/plain": [
       "(384, 64)"
      ]
     },
     "execution_count": 166,
     "metadata": {},
     "output_type": "execute_result"
    }
   ],
   "source": [
    "test.shape"
   ]
  },
  {
   "cell_type": "code",
   "execution_count": 168,
   "metadata": {},
   "outputs": [
    {
     "data": {
      "text/plain": [
       "(3272, 63)"
      ]
     },
     "execution_count": 168,
     "metadata": {},
     "output_type": "execute_result"
    }
   ],
   "source": [
    "final.shape"
   ]
  },
  {
   "cell_type": "code",
   "execution_count": null,
   "metadata": {},
   "outputs": [],
   "source": []
  }
 ],
 "metadata": {
  "kernelspec": {
   "display_name": "Python 3",
   "language": "python",
   "name": "python3"
  },
  "language_info": {
   "codemirror_mode": {
    "name": "ipython",
    "version": 3
   },
   "file_extension": ".py",
   "mimetype": "text/x-python",
   "name": "python",
   "nbconvert_exporter": "python",
   "pygments_lexer": "ipython3",
   "version": "3.8.3"
  }
 },
 "nbformat": 4,
 "nbformat_minor": 4
}
